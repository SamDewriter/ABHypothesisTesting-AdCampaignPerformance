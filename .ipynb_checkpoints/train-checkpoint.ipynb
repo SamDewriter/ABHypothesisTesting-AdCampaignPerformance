{
 "cells": [
  {
   "cell_type": "code",
   "execution_count": 4,
   "metadata": {},
   "outputs": [
    {
     "name": "stdout",
     "output_type": "stream",
     "text": [
      "Requirement already satisfied: ipython in c:\\users\\daud\\anaconda3\\anaconda4\\lib\\site-packages (7.19.0)\n",
      "Requirement already satisfied: decorator in c:\\users\\daud\\anaconda3\\anaconda4\\lib\\site-packages (from ipython) (4.4.2)\n",
      "Requirement already satisfied: pickleshare in c:\\users\\daud\\anaconda3\\anaconda4\\lib\\site-packages (from ipython) (0.7.5)\n",
      "Requirement already satisfied: colorama; sys_platform == \"win32\" in c:\\users\\daud\\anaconda3\\anaconda4\\lib\\site-packages (from ipython) (0.4.4)\n",
      "Requirement already satisfied: jedi>=0.10 in c:\\users\\daud\\anaconda3\\anaconda4\\lib\\site-packages (from ipython) (0.17.1)\n",
      "Requirement already satisfied: setuptools>=18.5 in c:\\users\\daud\\anaconda3\\anaconda4\\lib\\site-packages (from ipython) (50.3.1.post20201107)\n",
      "Requirement already satisfied: traitlets>=4.2 in c:\\users\\daud\\anaconda3\\anaconda4\\lib\\site-packages (from ipython) (5.0.5)\n",
      "Requirement already satisfied: pygments in c:\\users\\daud\\anaconda3\\anaconda4\\lib\\site-packages (from ipython) (2.7.2)\n",
      "Requirement already satisfied: backcall in c:\\users\\daud\\anaconda3\\anaconda4\\lib\\site-packages (from ipython) (0.2.0)\n",
      "Requirement already satisfied: prompt-toolkit!=3.0.0,!=3.0.1,<3.1.0,>=2.0.0 in c:\\users\\daud\\anaconda3\\anaconda4\\lib\\site-packages (from ipython) (3.0.8)\n",
      "Requirement already satisfied: parso<0.8.0,>=0.7.0 in c:\\users\\daud\\anaconda3\\anaconda4\\lib\\site-packages (from jedi>=0.10->ipython) (0.7.0)\n",
      "Requirement already satisfied: ipython-genutils in c:\\users\\daud\\anaconda3\\anaconda4\\lib\\site-packages (from traitlets>=4.2->ipython) (0.2.0)\n",
      "Requirement already satisfied: wcwidth in c:\\users\\daud\\anaconda3\\anaconda4\\lib\\site-packages (from prompt-toolkit!=3.0.0,!=3.0.1,<3.1.0,>=2.0.0->ipython) (0.2.5)\n",
      "Note: you may need to restart the kernel to use updated packages.\n"
     ]
    }
   ],
   "source": [
    "pip install ipython"
   ]
  },
  {
   "cell_type": "code",
   "execution_count": 5,
   "metadata": {},
   "outputs": [
    {
     "name": "stdout",
     "output_type": "stream",
     "text": [
      "Requirement already satisfied: nbconvert in c:\\users\\daud\\anaconda3\\anaconda4\\lib\\site-packages (6.0.7)\n",
      "Requirement already satisfied: pygments>=2.4.1 in c:\\users\\daud\\anaconda3\\anaconda4\\lib\\site-packages (from nbconvert) (2.7.2)\n",
      "Requirement already satisfied: entrypoints>=0.2.2 in c:\\users\\daud\\anaconda3\\anaconda4\\lib\\site-packages (from nbconvert) (0.3)\n",
      "Requirement already satisfied: nbclient<0.6.0,>=0.5.0 in c:\\users\\daud\\anaconda3\\anaconda4\\lib\\site-packages (from nbconvert) (0.5.1)\n",
      "Requirement already satisfied: jupyter-core in c:\\users\\daud\\anaconda3\\anaconda4\\lib\\site-packages (from nbconvert) (4.6.3)\n",
      "Requirement already satisfied: bleach in c:\\users\\daud\\anaconda3\\anaconda4\\lib\\site-packages (from nbconvert) (3.2.1)\n",
      "Requirement already satisfied: jinja2>=2.4 in c:\\users\\daud\\anaconda3\\anaconda4\\lib\\site-packages (from nbconvert) (2.11.2)\n",
      "Requirement already satisfied: nbformat>=4.4 in c:\\users\\daud\\anaconda3\\anaconda4\\lib\\site-packages (from nbconvert) (5.0.8)\n",
      "Requirement already satisfied: testpath in c:\\users\\daud\\anaconda3\\anaconda4\\lib\\site-packages (from nbconvert) (0.4.4)\n",
      "Requirement already satisfied: mistune<2,>=0.8.1 in c:\\users\\daud\\anaconda3\\anaconda4\\lib\\site-packages (from nbconvert) (0.8.4)\n",
      "Requirement already satisfied: pandocfilters>=1.4.1 in c:\\users\\daud\\anaconda3\\anaconda4\\lib\\site-packages (from nbconvert) (1.4.3)\n",
      "Requirement already satisfied: defusedxml in c:\\users\\daud\\anaconda3\\anaconda4\\lib\\site-packages (from nbconvert) (0.6.0)\n",
      "Requirement already satisfied: traitlets>=4.2 in c:\\users\\daud\\anaconda3\\anaconda4\\lib\\site-packages (from nbconvert) (5.0.5)\n",
      "Requirement already satisfied: jupyterlab-pygments in c:\\users\\daud\\anaconda3\\anaconda4\\lib\\site-packages (from nbconvert) (0.1.2)\n",
      "Requirement already satisfied: jupyter-client>=6.1.5 in c:\\users\\daud\\anaconda3\\anaconda4\\lib\\site-packages (from nbclient<0.6.0,>=0.5.0->nbconvert) (6.1.7)\n",
      "Requirement already satisfied: async-generator in c:\\users\\daud\\anaconda3\\anaconda4\\lib\\site-packages (from nbclient<0.6.0,>=0.5.0->nbconvert) (1.10)\n",
      "Requirement already satisfied: nest-asyncio in c:\\users\\daud\\anaconda3\\anaconda4\\lib\\site-packages (from nbclient<0.6.0,>=0.5.0->nbconvert) (1.4.2)\n",
      "Requirement already satisfied: pywin32>=1.0; sys_platform == \"win32\" in c:\\users\\daud\\anaconda3\\anaconda4\\lib\\site-packages (from jupyter-core->nbconvert) (227)\n",
      "Requirement already satisfied: packaging in c:\\users\\daud\\anaconda3\\anaconda4\\lib\\site-packages (from bleach->nbconvert) (20.4)\n",
      "Requirement already satisfied: webencodings in c:\\users\\daud\\anaconda3\\anaconda4\\lib\\site-packages (from bleach->nbconvert) (0.5.1)\n",
      "Requirement already satisfied: six>=1.9.0 in c:\\users\\daud\\anaconda3\\anaconda4\\lib\\site-packages (from bleach->nbconvert) (1.15.0)\n",
      "Requirement already satisfied: MarkupSafe>=0.23 in c:\\users\\daud\\anaconda3\\anaconda4\\lib\\site-packages (from jinja2>=2.4->nbconvert) (1.1.1)\n",
      "Requirement already satisfied: ipython-genutils in c:\\users\\daud\\anaconda3\\anaconda4\\lib\\site-packages (from nbformat>=4.4->nbconvert) (0.2.0)\n",
      "Requirement already satisfied: jsonschema!=2.5.0,>=2.4 in c:\\users\\daud\\anaconda3\\anaconda4\\lib\\site-packages (from nbformat>=4.4->nbconvert) (3.2.0)\n",
      "Requirement already satisfied: python-dateutil>=2.1 in c:\\users\\daud\\anaconda3\\anaconda4\\lib\\site-packages (from jupyter-client>=6.1.5->nbclient<0.6.0,>=0.5.0->nbconvert) (2.8.1)\n",
      "Requirement already satisfied: pyzmq>=13 in c:\\users\\daud\\anaconda3\\anaconda4\\lib\\site-packages (from jupyter-client>=6.1.5->nbclient<0.6.0,>=0.5.0->nbconvert) (19.0.2)\n",
      "Requirement already satisfied: tornado>=4.1 in c:\\users\\daud\\anaconda3\\anaconda4\\lib\\site-packages (from jupyter-client>=6.1.5->nbclient<0.6.0,>=0.5.0->nbconvert) (6.0.4)\n",
      "Requirement already satisfied: pyparsing>=2.0.2 in c:\\users\\daud\\anaconda3\\anaconda4\\lib\\site-packages (from packaging->bleach->nbconvert) (2.4.7)\n",
      "Requirement already satisfied: pyrsistent>=0.14.0 in c:\\users\\daud\\anaconda3\\anaconda4\\lib\\site-packages (from jsonschema!=2.5.0,>=2.4->nbformat>=4.4->nbconvert) (0.17.3)\n",
      "Requirement already satisfied: setuptools in c:\\users\\daud\\anaconda3\\anaconda4\\lib\\site-packages (from jsonschema!=2.5.0,>=2.4->nbformat>=4.4->nbconvert) (50.3.1.post20201107)\n",
      "Requirement already satisfied: attrs>=17.4.0 in c:\\users\\daud\\anaconda3\\anaconda4\\lib\\site-packages (from jsonschema!=2.5.0,>=2.4->nbformat>=4.4->nbconvert) (20.3.0)\n",
      "Note: you may need to restart the kernel to use updated packages.\n"
     ]
    }
   ],
   "source": [
    "pip install nbconvert"
   ]
  },
  {
   "cell_type": "code",
   "execution_count": null,
   "metadata": {},
   "outputs": [],
   "source": []
  }
 ],
 "metadata": {
  "kernelspec": {
   "display_name": "Python 3",
   "language": "python",
   "name": "python3"
  },
  "language_info": {
   "codemirror_mode": {
    "name": "ipython",
    "version": 3
   },
   "file_extension": ".py",
   "mimetype": "text/x-python",
   "name": "python",
   "nbconvert_exporter": "python",
   "pygments_lexer": "ipython3",
   "version": "3.8.5"
  }
 },
 "nbformat": 4,
 "nbformat_minor": 4
}
